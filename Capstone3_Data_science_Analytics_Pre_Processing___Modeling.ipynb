{
  "nbformat": 4,
  "nbformat_minor": 0,
  "metadata": {
    "colab": {
      "name": "Capstone3_Data_science_Analytics_Pre-Processing _ Modeling.ipynb",
      "provenance": [],
      "collapsed_sections": [],
      "authorship_tag": "ABX9TyOFVYQ8KI0qMiQaqpc9M7vI",
      "include_colab_link": true
    },
    "kernelspec": {
      "name": "python3",
      "display_name": "Python 3"
    },
    "language_info": {
      "name": "python"
    }
  },
  "cells": [
    {
      "cell_type": "markdown",
      "metadata": {
        "id": "view-in-github",
        "colab_type": "text"
      },
      "source": [
        "<a href=\"https://colab.research.google.com/github/neetinds/Capstone3/blob/main/Capstone3_Data_science_Analytics_Pre_Processing___Modeling.ipynb\" target=\"_parent\"><img src=\"https://colab.research.google.com/assets/colab-badge.svg\" alt=\"Open In Colab\"/></a>"
      ]
    },
    {
      "cell_type": "markdown",
      "metadata": {
        "id": "1dMnU_4uliEQ"
      },
      "source": [
        "#Pre-Processing and Modeling\n",
        "To identify the factors that lead to attrition with the goal of building a model that uses credentials of the candidate and various demographics factors to predict the probability of a candidate to look out for new jobs or remain at the company. Using modeling technique like clustering, classification, smote, xgboost-classifier etc."
      ]
    },
    {
      "cell_type": "markdown",
      "metadata": {
        "id": "BHis4zQYu-Z4"
      },
      "source": [
        "##Elbow plot to check alternate number of levels to represent these feature :"
      ]
    },
    {
      "cell_type": "code",
      "metadata": {
        "id": "omAJGvYhu_jT"
      },
      "source": [
        "from sklearn.cluster import KMeans\n",
        "\n",
        "dumcity=pd.get_dummies(categ['city'],drop_first=True)\n",
        "\n",
        "inert_city=[]\n",
        "for k in range(2,30):\n",
        "    kcity=KMeans(k)\n",
        "    kcity.fit(dumcity)\n",
        "    \n",
        "    inert_city.append(kcity.inertia_)\n",
        "\n",
        "plt.title('Scree for City')\n",
        "plt.plot(range(2,30),inert_city,color='red',marker='*')\n",
        "plt.grid()\n",
        "plt.show()"
      ],
      "execution_count": null,
      "outputs": []
    },
    {
      "cell_type": "code",
      "metadata": {
        "id": "rdXh1MYar9Hk"
      },
      "source": [
        "dumexp=pd.get_dummies(categ['experience'],drop_first=True)\n",
        "\n",
        "inert_exp=[]\n",
        "for k in range(2,20):\n",
        "    kexp=KMeans(k)\n",
        "    kexp.fit(dumexp)\n",
        "    \n",
        "    inert_exp.append(kexp.inertia_)\n",
        "    \n",
        "plt.title('Scree for Experience')\n",
        "plt.plot(range(2,20),inert_exp,color='red',marker='*')\n",
        "plt.grid()\n",
        "plt.show()"
      ],
      "execution_count": null,
      "outputs": []
    },
    {
      "cell_type": "code",
      "metadata": {
        "id": "6MOte3UDvJTa"
      },
      "source": [
        "dumcpsize=pd.get_dummies(categ['company_size'],drop_first=True)\n",
        "\n",
        "inert_cpsz=[]\n",
        "for k in range(2,8):\n",
        "    kcpsz=KMeans(k)\n",
        "    kcpsz.fit(dumcpsize)\n",
        "    \n",
        "    inert_cpsz.append(kcpsz.inertia_)\n",
        "\n",
        "plt.title('Scree for Company Size')\n",
        "plt.plot(range(2,8),inert_cpsz,color='red',marker='*')\n",
        "plt.grid()\n",
        "plt.show()"
      ],
      "execution_count": null,
      "outputs": []
    },
    {
      "cell_type": "code",
      "metadata": {
        "id": "YUtpaggyvNMI"
      },
      "source": [
        "*Collapsing* levels :"
      ],
      "execution_count": null,
      "outputs": []
    },
    {
      "cell_type": "code",
      "metadata": {
        "id": "GyfUUPK2vO83"
      },
      "source": [
        "# Collapsed city from 123 to 15 levels\n",
        "kmeancity=KMeans(n_clusters=15)\n",
        "kmeancity.fit(dumcity)\n",
        "\n",
        "city=kmeancity.labels_\n",
        "city"
      ],
      "execution_count": null,
      "outputs": []
    },
    {
      "cell_type": "code",
      "metadata": {
        "id": "mSrAQaL1vRFE"
      },
      "source": [
        "# Collapsed experience from 22 to 10 levels\n",
        "kmeanexp=KMeans(n_clusters=10)\n",
        "kmeanexp.fit(dumexp)\n",
        "\n",
        "exp=kmeanexp.labels_\n",
        "exp"
      ],
      "execution_count": null,
      "outputs": []
    },
    {
      "cell_type": "code",
      "metadata": {
        "id": "mGUQT1c9vTKB"
      },
      "source": [
        "# Collapsed company size from 9 to 5 levels\n",
        "kmeancpsize=KMeans(n_clusters=5)\n",
        "kmeancpsize.fit(dumcpsize)\n",
        "\n",
        "cpsize=kmeancpsize.labels_\n",
        "cpsize"
      ],
      "execution_count": null,
      "outputs": []
    },
    {
      "cell_type": "code",
      "metadata": {
        "id": "QFgNBVeKvWaU"
      },
      "source": [
        "categ['city']=city\n",
        "categ['experience']=exp\n",
        "categ['company_size']=cpsize\n",
        "\n",
        "categ.head()"
      ],
      "execution_count": null,
      "outputs": []
    },
    {
      "cell_type": "code",
      "metadata": {
        "id": "iOBDllBgvYbL"
      },
      "source": [
        "categ[colps].head()"
      ],
      "execution_count": null,
      "outputs": []
    },
    {
      "cell_type": "code",
      "metadata": {
        "id": "hBsI2dfkvbip"
      },
      "source": [
        "# Visualizing the label distributions among cateforic features after collapse (ALL categoric features included)\n",
        "for i in categ:\n",
        "    plt.figure(figsize=(10,3))\n",
        "    sns.countplot(categ[i])\n",
        "    plt.show()"
      ],
      "execution_count": null,
      "outputs": []
    },
    {
      "cell_type": "code",
      "metadata": {
        "id": "Iie83CeAveNe"
      },
      "source": [
        "# Final updation on the train set with collapsed features thier compressed levels\n",
        "train[colps]=categ[colps]\n",
        "train.head()"
      ],
      "execution_count": null,
      "outputs": []
    },
    {
      "cell_type": "code",
      "metadata": {
        "id": "Rq-ZjpcNvhOM"
      },
      "source": [
        "# One-hot encoding of all categoric features of train set\n",
        "train=pd.get_dummies(data=train,columns=list(categ.columns),drop_first=True)\n",
        "train.head()"
      ],
      "execution_count": null,
      "outputs": []
    },
    {
      "cell_type": "code",
      "metadata": {
        "id": "AJ2mAmhqvjvm"
      },
      "source": [
        "train.shape"
      ],
      "execution_count": null,
      "outputs": []
    },
    {
      "cell_type": "code",
      "metadata": {
        "id": "Sd7DGaiAvmrF"
      },
      "source": [
        "sns.heatmap(train.isnull())\n",
        "plt.show()"
      ],
      "execution_count": null,
      "outputs": []
    },
    {
      "cell_type": "markdown",
      "metadata": {
        "id": "wQOSOeNbvsKw"
      },
      "source": [
        "##Oversampling"
      ]
    },
    {
      "cell_type": "code",
      "metadata": {
        "id": "eDU8YlX4vpKS"
      },
      "source": [
        "Y=train['target']\n",
        "X=train.drop(['target','enrollee_id'],axis=1) # Id varibale is not going to considered"
      ],
      "execution_count": null,
      "outputs": []
    },
    {
      "cell_type": "code",
      "metadata": {
        "id": "U1hh1UC4vwbH"
      },
      "source": [
        "# Check for Data imbalance\n",
        "train['target'].value_counts()"
      ],
      "execution_count": null,
      "outputs": []
    },
    {
      "cell_type": "markdown",
      "metadata": {
        "id": "0wHCIwAxv0Gh"
      },
      "source": [
        "SMOTE : Is an oversampling technique where the synthetic samples are generated for the minority class"
      ]
    },
    {
      "cell_type": "code",
      "metadata": {
        "id": "Qtqwbt10v067"
      },
      "source": [
        "# Balancing data using SMOTE\n",
        "from imblearn.over_sampling import SMOTE\n",
        "from pandas import Series\n",
        "smt=SMOTE(k_neighbors=9,random_state=10)\n",
        "\n",
        "X,Y=smt.fit_resample(X,Y)"
      ],
      "execution_count": null,
      "outputs": []
    },
    {
      "cell_type": "code",
      "metadata": {
        "id": "ATu217Wuv4OM"
      },
      "source": [
        "print(X)\n",
        "print(Y)"
      ],
      "execution_count": null,
      "outputs": []
    },
    {
      "cell_type": "markdown",
      "metadata": {
        "id": "kWMOY_iSv90O"
      },
      "source": [
        "# Modeling\n",
        "\n",
        "Training and Test Datasets\n",
        "When fitting models, we would like to ensure two things:\n",
        "* We have found the best model (in terms of model parameters).\n",
        "* The model is highly likely to generalize i.e. perform well on unseen data.\n",
        "\n",
        "Purpose of splitting data into Training/testing sets\n",
        "* We built our model with the requirement that the model fit the data well.\n",
        "* As a side-effect, the model will fit THIS dataset well. What about new data?\n",
        "    * We wanted the model for predictions, right?\n",
        "* One simple solution, leave out some data (for testing) and train the model on the rest\n",
        "* This also leads directly to the idea of cross-validation, next section."
      ]
    },
    {
      "cell_type": "markdown",
      "metadata": {
        "id": "mxe2_SXdwDIF"
      },
      "source": [
        "# Train Set"
      ]
    },
    {
      "cell_type": "code",
      "metadata": {
        "id": "i-0nsohhv6IU"
      },
      "source": [
        "from sklearn.model_selection import train_test_split\n",
        "Xtr,Xte,Ytr,Yte=train_test_split(X,Y,test_size=0.02,random_state=10)"
      ],
      "execution_count": null,
      "outputs": []
    },
    {
      "cell_type": "markdown",
      "metadata": {
        "id": "mSwWete3wIHi"
      },
      "source": [
        "###Logistic Regression"
      ]
    },
    {
      "cell_type": "code",
      "metadata": {
        "colab": {
          "base_uri": "https://localhost:8080/"
        },
        "id": "RioU6TEm0IyA",
        "outputId": "b5b0fc89-6fc8-4c01-ae66-f35b35b5cca5"
      },
      "source": [
        "from sklearn.linear_model import LogisticRegression\n",
        "log=LogisticRegression(random_state=10)\n",
        "log.fit(Xtr,Ytr)\n",
        "\n",
        "#Check for Variance:\n",
        "print('Train accuracy :',log.score(Xtr,Ytr))\n",
        "print('Test accuracy :',log.score(Xte,Yte))"
      ],
      "execution_count": null,
      "outputs": [
        {
          "output_type": "stream",
          "text": [
            "Train accuracy : 0.772802342166504\n",
            "Test accuracy : 0.7886029411764706\n"
          ],
          "name": "stdout"
        }
      ]
    },
    {
      "cell_type": "code",
      "metadata": {
        "colab": {
          "base_uri": "https://localhost:8080/"
        },
        "id": "NZ7Irjrg0IyA",
        "outputId": "52401286-d904-490a-9508-23b86efcb0ac"
      },
      "source": [
        "# Check for Bais\n",
        "from sklearn.model_selection import KFold,cross_val_score\n",
        "cvs=cross_val_score(log,Xtr,Ytr,cv=KFold(n_splits=3,shuffle=True))\n",
        "cvsrec=cross_val_score(log,Xtr,Ytr,cv=KFold(n_splits=3,shuffle=True),scoring='recall')\n",
        "cvsprec=cross_val_score(log,Xtr,Ytr,cv=KFold(n_splits=3,shuffle=True),scoring='precision')\n",
        "cvsf1=cross_val_score(log,Xtr,Ytr,cv=KFold(n_splits=3,shuffle=True),scoring='f1')\n",
        "\n",
        "print('Accuracy :',cvs)\n",
        "print('Recall :',cvsrec)\n",
        "print('Precision :',cvsprec)\n",
        "print('F1 :',cvsf1)"
      ],
      "execution_count": null,
      "outputs": [
        {
          "output_type": "stream",
          "text": [
            "Accuracy : [0.77175994 0.77592613 0.76677928]\n",
            "Recall : [0.76098901 0.75304191 0.76254998]\n",
            "Precision : [0.76737298 0.78032939 0.7848013 ]\n",
            "F1 : [0.77585622 0.76866613 0.76004119]\n"
          ],
          "name": "stdout"
        }
      ]
    },
    {
      "cell_type": "code",
      "metadata": {
        "id": "aEYuKXMd0IyA"
      },
      "source": [
        "# Predictions\n",
        "from sklearn.model_selection import cross_val_predict\n",
        "ylog=cross_val_predict(log,Xte,Yte,cv=KFold(n_splits=3,shuffle=True))\n",
        "ylogprob=cross_val_predict(log,Xte,Yte,cv=KFold(n_splits=3,shuffle=True),method='predict_proba')"
      ],
      "execution_count": null,
      "outputs": []
    },
    {
      "cell_type": "markdown",
      "metadata": {
        "id": "eCB44mXP0IyA"
      },
      "source": [
        "###Naive Bayes"
      ]
    },
    {
      "cell_type": "code",
      "metadata": {
        "colab": {
          "base_uri": "https://localhost:8080/"
        },
        "id": "y-M3zeK90IyA",
        "outputId": "40cbf536-085b-4cf5-d26e-756973b7650e"
      },
      "source": [
        "from sklearn.naive_bayes import GaussianNB\n",
        "nb=GaussianNB()\n",
        "nb.fit(Xtr,Ytr)\n",
        "\n",
        "#Check for Variance:\n",
        "print('Train accuracy :',nb.score(Xtr,Ytr))\n",
        "print('Test accuracy :',nb.score(Xte,Yte))"
      ],
      "execution_count": null,
      "outputs": [
        {
          "output_type": "stream",
          "text": [
            "Train accuracy : 0.6496509271075745\n",
            "Test accuracy : 0.6966911764705882\n"
          ],
          "name": "stdout"
        }
      ]
    },
    {
      "cell_type": "code",
      "metadata": {
        "colab": {
          "base_uri": "https://localhost:8080/"
        },
        "id": "V_vthfPz0IyA",
        "outputId": "59459984-059e-4023-e9a2-fef7da3e6de9"
      },
      "source": [
        "# Check for Bais\n",
        "cvs=cross_val_score(nb,Xtr,Ytr,cv=KFold(n_splits=3,shuffle=True))\n",
        "cvsrec=cross_val_score(nb,Xtr,Ytr,cv=KFold(n_splits=3,shuffle=True),scoring='recall')\n",
        "cvsprec=cross_val_score(nb,Xtr,Ytr,cv=KFold(n_splits=3,shuffle=True),scoring='precision')\n",
        "cvsf1=cross_val_score(nb,Xtr,Ytr,cv=KFold(n_splits=3,shuffle=True),scoring='f1')\n",
        "\n",
        "print('Accuracy :',cvs)\n",
        "print('Recall :',cvsrec)\n",
        "print('Precision :',cvsprec)\n",
        "print('F1 :',cvsf1)"
      ],
      "execution_count": null,
      "outputs": [
        {
          "output_type": "stream",
          "text": [
            "Accuracy : [0.64621101 0.65217881 0.64853604]\n",
            "Recall : [0.82450181 0.83868778 0.84883721]\n",
            "Precision : [0.61071195 0.59771429 0.61333771]\n",
            "F1 : [0.69781576 0.70582644 0.71077184]\n"
          ],
          "name": "stdout"
        }
      ]
    },
    {
      "cell_type": "code",
      "metadata": {
        "id": "edh229a10IyA"
      },
      "source": [
        "# Predictions\n",
        "ynb=cross_val_predict(nb,Xte,Yte,cv=KFold(n_splits=3,shuffle=True))\n",
        "ynbprob=cross_val_predict(nb,Xte,Yte,cv=KFold(n_splits=3,shuffle=True),method='predict_proba')"
      ],
      "execution_count": null,
      "outputs": []
    },
    {
      "cell_type": "markdown",
      "metadata": {
        "id": "zlE2XFnG0IyA"
      },
      "source": [
        "###Decision Tree"
      ]
    },
    {
      "cell_type": "code",
      "metadata": {
        "colab": {
          "base_uri": "https://localhost:8080/"
        },
        "id": "XBA8n7Gq0IyA",
        "outputId": "d1d13812-8020-4b63-e834-1cd977c1e8d8"
      },
      "source": [
        "from sklearn.tree import DecisionTreeClassifier\n",
        "dt=DecisionTreeClassifier(max_leaf_nodes=32,random_state=10)\n",
        "dt.fit(Xtr,Ytr)\n",
        "\n",
        "#Check for Variance:\n",
        "print('Train accuracy :',dt.score(Xtr,Ytr))\n",
        "print('Test accuracy :',dt.score(Xte,Yte))"
      ],
      "execution_count": null,
      "outputs": [
        {
          "output_type": "stream",
          "text": [
            "Train accuracy : 0.8089858118759853\n",
            "Test accuracy : 0.8272058823529411\n"
          ],
          "name": "stdout"
        }
      ]
    },
    {
      "cell_type": "code",
      "metadata": {
        "colab": {
          "base_uri": "https://localhost:8080/"
        },
        "id": "p14h-x3z0IyA",
        "outputId": "98151530-446e-45e5-c94d-8ee6c5823360"
      },
      "source": [
        "# Check for Bais\n",
        "cvs=cross_val_score(dt,Xtr,Ytr,cv=KFold(n_splits=3,shuffle=True))\n",
        "cvsrec=cross_val_score(dt,Xtr,Ytr,cv=KFold(n_splits=3,shuffle=True),scoring='recall')\n",
        "cvsprec=cross_val_score(dt,Xtr,Ytr,cv=KFold(n_splits=3,shuffle=True),scoring='precision')\n",
        "cvsf1=cross_val_score(dt,Xtr,Ytr,cv=KFold(n_splits=3,shuffle=True),scoring='f1')\n",
        "\n",
        "print('Accuracy :',cvs)\n",
        "print('Recall :',cvsrec)\n",
        "print('Precision :',cvsprec)\n",
        "print('F1 :',cvsf1)"
      ],
      "execution_count": null,
      "outputs": [
        {
          "output_type": "stream",
          "text": [
            "Accuracy : [0.80047292 0.80970611 0.80810811]\n",
            "Recall : [0.81163372 0.80859637 0.80518018]\n",
            "Precision : [0.81906525 0.81373215 0.81685842]\n",
            "F1 : [0.80951318 0.801951   0.8102517 ]\n"
          ],
          "name": "stdout"
        }
      ]
    },
    {
      "cell_type": "code",
      "metadata": {
        "id": "ZLINF2YN0IyA"
      },
      "source": [
        "# Predictions\n",
        "ydt=cross_val_predict(dt,Xte,Yte,cv=KFold(n_splits=3,shuffle=True))\n",
        "ydtprob=cross_val_predict(dt,Xte,Yte,cv=KFold(n_splits=3,shuffle=True),method='predict_proba')"
      ],
      "execution_count": null,
      "outputs": []
    },
    {
      "cell_type": "markdown",
      "metadata": {
        "id": "yt_3X1i20IyB"
      },
      "source": [
        "###SVC"
      ]
    },
    {
      "cell_type": "code",
      "metadata": {
        "colab": {
          "base_uri": "https://localhost:8080/"
        },
        "id": "zdeZRldy0IyB",
        "outputId": "8d4bace8-79f5-4ad3-84d9-42165b324f6a"
      },
      "source": [
        "from sklearn.svm import SVC\n",
        "svm=SVC(probability=True)\n",
        "svm.fit(Xtr,Ytr)\n",
        "\n",
        "#Check for Variance:\n",
        "print('Train accuracy :',svm.score(Xtr,Ytr))\n",
        "print('Test accuracy :',svm.score(Xte,Yte))"
      ],
      "execution_count": null,
      "outputs": [
        {
          "output_type": "stream",
          "text": [
            "Train accuracy : 0.8264019217776443\n",
            "Test accuracy : 0.8235294117647058\n"
          ],
          "name": "stdout"
        }
      ]
    },
    {
      "cell_type": "code",
      "metadata": {
        "id": "G9JJdmfk0IyB",
        "colab": {
          "base_uri": "https://localhost:8080/"
        },
        "outputId": "3f2accaa-f3ca-455b-f320-2776de006b30"
      },
      "source": [
        "# Check for Bais\n",
        "cvs=cross_val_score(svm,Xtr,Ytr,cv=KFold(n_splits=3,shuffle=True))\n",
        "cvsrec=cross_val_score(svm,Xtr,Ytr,cv=KFold(n_splits=3,shuffle=True),scoring='recall')\n",
        "cvsprec=cross_val_score(svm,Xtr,Ytr,cv=KFold(n_splits=3,shuffle=True),scoring='precision')\n",
        "cvsf1=cross_val_score(svm,Xtr,Ytr,cv=KFold(n_splits=3,shuffle=True),scoring='f1')\n",
        "\n",
        "print('Accuracy :',cvs)\n",
        "print('Recall :',cvsrec)\n",
        "print('Precision :',cvsprec)\n",
        "print('F1 :',cvsf1)"
      ],
      "execution_count": null,
      "outputs": [
        {
          "output_type": "stream",
          "text": [
            "Accuracy : [0.80981871 0.81049431 0.80236486]\n",
            "Recall : [0.8082254  0.80553058 0.80399193]\n",
            "Precision : [0.814798   0.80423996 0.80528575]\n",
            "F1 : [0.81308199 0.80185583 0.80583614]\n"
          ],
          "name": "stdout"
        }
      ]
    },
    {
      "cell_type": "code",
      "metadata": {
        "id": "JKtG_izq0IyB"
      },
      "source": [
        "# Predictions\n",
        "ysvm=cross_val_predict(svm,Xte,Yte,cv=2)\n",
        "ysvmprob=cross_val_predict(svm,Xte,Yte,cv=KFold(n_splits=3,shuffle=True),method='predict_proba')"
      ],
      "execution_count": null,
      "outputs": []
    },
    {
      "cell_type": "markdown",
      "metadata": {
        "id": "MYUBI8T90IyB"
      },
      "source": [
        "###KNN"
      ]
    },
    {
      "cell_type": "code",
      "metadata": {
        "id": "BVsZM1T90IyB",
        "colab": {
          "base_uri": "https://localhost:8080/"
        },
        "outputId": "e541205c-9bd6-4cc6-a624-09e66fcfa127"
      },
      "source": [
        "from sklearn.neighbors import KNeighborsClassifier\n",
        "knn=KNeighborsClassifier(n_neighbors=7)\n",
        "knn.fit(Xtr,Ytr)\n",
        "\n",
        "#Check for Variance:\n",
        "print('Train accuracy :',knn.score(Xtr,Ytr))\n",
        "print('Test accuracy :',knn.score(Xte,Yte))"
      ],
      "execution_count": null,
      "outputs": [
        {
          "output_type": "stream",
          "text": [
            "Train accuracy : 0.8427670595300654\n",
            "Test accuracy : 0.7977941176470589\n"
          ],
          "name": "stdout"
        }
      ]
    },
    {
      "cell_type": "code",
      "metadata": {
        "id": "GQPvqYrW0IyB",
        "colab": {
          "base_uri": "https://localhost:8080/"
        },
        "outputId": "3e8ffe21-05e5-4d55-efd8-8fb43fe1f9c7"
      },
      "source": [
        "# Check for Bais\n",
        "cvs=cross_val_score(knn,Xtr,Ytr,cv=KFold(n_splits=3,shuffle=True))\n",
        "cvsrec=cross_val_score(knn,Xtr,Ytr,cv=KFold(n_splits=3,shuffle=True),scoring='recall')\n",
        "cvsprec=cross_val_score(knn,Xtr,Ytr,cv=KFold(n_splits=3,shuffle=True),scoring='precision')\n",
        "cvsf1=cross_val_score(knn,Xtr,Ytr,cv=KFold(n_splits=3,shuffle=True),scoring='f1')\n",
        "\n",
        "print('Accuracy :',cvs)\n",
        "print('Recall :',cvsrec)\n",
        "print('Precision :',cvsprec)\n",
        "print('F1 :',cvsf1)"
      ],
      "execution_count": null,
      "outputs": [
        {
          "output_type": "stream",
          "text": [
            "Accuracy : [0.77750253 0.77716473 0.77781532]\n",
            "Recall : [0.88182857 0.87474883 0.88616974]\n",
            "Precision : [0.729548   0.73275384 0.7320038 ]\n",
            "F1 : [0.79698783 0.79748377 0.80061412]\n"
          ],
          "name": "stdout"
        }
      ]
    },
    {
      "cell_type": "code",
      "metadata": {
        "id": "KKikg4cA0IyB"
      },
      "source": [
        "# Predictions\n",
        "yknn=cross_val_predict(knn,Xte,Yte,cv=3)\n",
        "yknnprob=cross_val_predict(knn,Xte,Yte,cv=KFold(n_splits=3,shuffle=True),method='predict_proba')"
      ],
      "execution_count": null,
      "outputs": []
    },
    {
      "cell_type": "markdown",
      "metadata": {
        "id": "0rCkRedp0IyB"
      },
      "source": [
        "ROC-AUC scores and ROC curves to select Base Model: \n",
        "The Receiver Operator Characteristic (ROC) curve is an evaluation metric for binary classification problems. It is a probability curve that plots the TPR against FPR at various threshold values and essentially separates the ‘signal’ from the ‘noise’. The Area Under the Curve (AUC) is the measure of the ability of a classifier to distinguish between classes and is used as a summary of the ROC curve."
      ]
    },
    {
      "cell_type": "code",
      "metadata": {
        "id": "_DpnLeBR0IyB",
        "colab": {
          "base_uri": "https://localhost:8080/",
          "height": 489
        },
        "outputId": "17db8d2c-ae4c-4ef0-e07b-a09dbac4050f"
      },
      "source": [
        "from sklearn.metrics import roc_auc_score,roc_curve\n",
        "\n",
        "plt.figure(figsize=(10,6))\n",
        "\n",
        "# SVC:\n",
        "asvm,recsvm,thsvm=roc_curve(Yte,ysvmprob[:,1])\n",
        "plt.plot(asvm,recsvm,label='SVC')\n",
        "\n",
        "# Logistic Regression:\n",
        "alog,reclog,thlog=roc_curve(Yte,ylogprob[:,1])\n",
        "plt.plot(alog,reclog,color='red',label='Logistic Regression')\n",
        "\n",
        "# Decision Tree:\n",
        "adt,recdt,thdt=roc_curve(Yte,ydtprob[:,1])\n",
        "plt.plot(adt,recdt,color='green',label='Decision Tree')\n",
        "\n",
        "# KNN:\n",
        "aknn,recknn,thknn=roc_curve(Yte,yknnprob[:,1])\n",
        "plt.plot(aknn,recknn,color='pink',label='KNN')\n",
        "\n",
        "# Naive Bayes:\n",
        "anb,recknb,thnb=roc_curve(Yte,ynbprob[:,1])\n",
        "plt.plot(anb,recknb,color='yellow',label='Naive Bayes')\n",
        "\n",
        "\n",
        "plt.legend()\n",
        "plt.grid()\n",
        "plt.title('ROC-Curve')\n",
        "plt.xlabel('Alpha Error')\n",
        "plt.ylabel('Sensitivity')\n",
        "plt.show()\n",
        "\n",
        "print('ROCAUC Logistic Regression :',roc_auc_score(Yte,ylogprob[:,1]))\n",
        "print('ROCAUC SVC :',roc_auc_score(Yte,ysvmprob[:,1]))\n",
        "print('ROCAUC KNN :',roc_auc_score(Yte,yknnprob[:,1]))\n",
        "print('ROCAUC Decision Tree :',roc_auc_score(Yte,ydtprob[:,1]))\n",
        "print('ROCAUC Naive Bayes :',roc_auc_score(Yte,ynbprob[:,1]))"
      ],
      "execution_count": null,
      "outputs": [
        {
          "output_type": "display_data",
          "data": {
            "image/png": "[encoded data removed]",
            "text/plain": [
              "<Figure size 720x432 with 1 Axes>"
            ]
          },
          "metadata": {
            "tags": [],
            "needs_background": "light"
          }
        },
        {
          "output_type": "stream",
          "text": [
            "ROCAUC Logistic Regression : 0.8139538034274876\n",
            "ROCAUC SVC : 0.8069023911129175\n",
            "ROCAUC KNN : 0.743487096118675\n",
            "ROCAUC Decision Tree : 0.7283343493869809\n",
            "ROCAUC Naive Bayes : 0.6973040709882816\n"
          ],
          "name": "stdout"
        }
      ]
    }
  ]
}